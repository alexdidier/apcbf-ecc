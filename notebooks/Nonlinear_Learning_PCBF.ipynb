{
 "cells": [
  {
   "cell_type": "markdown",
   "metadata": {},
   "source": [
    "# Learning the CBF for the Nonlinear System\n",
    "This Notebooks contains the learning pipeline used to train the model"
   ]
  },
  {
   "cell_type": "code",
   "execution_count": null,
   "metadata": {},
   "outputs": [],
   "source": [
    "\"\"\" Copyright (c) 2023, ETH Zurich, \n",
    "Alexandre Didier*, Robin C. Jacobs*, Jerome Sieber*, Kim P. Wabersich°, Prof. Dr. Melanie N. Zeilinger*, \n",
    "*Institute for Dynamic Systems and Control, D-MAVT\n",
    "°Corporate Research of Robert Bosch GmbH\n",
    "All rights reserved.\"\"\""
   ]
  },
  {
   "cell_type": "code",
   "execution_count": 1,
   "metadata": {},
   "outputs": [],
   "source": [
    "import numpy as np\n",
    "import torch\n",
    "import pickle\n",
    "import matplotlib.pyplot as plt\n",
    "from apcbf.custom_dataset import *\n",
    "from apcbf.approximator_nonlinear import *\n",
    "from apcbf.dynamic import *\n",
    "from apcbf.pcbf_nonlinear import *\n",
    "from torch.utils.data.sampler import RandomSampler\n",
    "from torch.utils.data.dataloader import DataLoader\n",
    "from tqdm.notebook import tqdm\n",
    "from pytope import Polytope"
   ]
  },
  {
   "cell_type": "code",
   "execution_count": 2,
   "metadata": {},
   "outputs": [],
   "source": [
    "# Plotting settings\n",
    "plt.rcParams['figure.figsize'] = [15, 10]\n",
    "plt.rc('font', **{'family': 'serif', 'serif': ['Computer Modern'], 'size': 24})\n",
    "plt.rc('text', usetex=True)"
   ]
  },
  {
   "cell_type": "code",
   "execution_count": 3,
   "metadata": {},
   "outputs": [
    {
     "name": "stdout",
     "output_type": "stream",
     "text": [
      "cuda:0\n"
     ]
    }
   ],
   "source": [
    "if torch.cuda.is_available():\n",
    "    # device = 'cuda'\n",
    "    device = torch.device('cuda:0')\n",
    "else :\n",
    "    device = 'cpu'\n",
    "print(device)"
   ]
  },
  {
   "cell_type": "markdown",
   "metadata": {},
   "source": [
    "### Load datasets"
   ]
  },
  {
   "cell_type": "code",
   "execution_count": 4,
   "metadata": {},
   "outputs": [],
   "source": [
    "train_data_set_1 = torch.load('../data/train_data_rand_2000.0k_nonlinear_paper.pt')\n",
    "train_data_set_2 = torch.load('../data/train_data_geom_sampl_thresh_100_8941.995k_nonlinear_paper.pt')\n",
    "val_data = torch.load('../data/val_data_geom_sampl_thresh_100_13.155k_nonlinear_paper.pt')\n",
    "\n",
    "# concat two datasets\n",
    "x_train = torch.cat([train_data_set_1.X, torch.from_numpy(train_data_set_2.X)]).float()\n",
    "y_train = torch.cat([train_data_set_1.y, torch.from_numpy(train_data_set_2.y).reshape(-1,1)]).float()\n",
    "train_data_set = SimpleData(x_train, y_train)\n",
    "\n",
    "x_val = val_data.X\n",
    "y_val = val_data.y"
   ]
  },
  {
   "cell_type": "code",
   "execution_count": 5,
   "metadata": {},
   "outputs": [
    {
     "data": {
      "text/plain": [
       "10941995"
      ]
     },
     "execution_count": 5,
     "metadata": {},
     "output_type": "execute_result"
    }
   ],
   "source": [
    "len(train_data_set)"
   ]
  },
  {
   "cell_type": "raw",
   "metadata": {},
   "source": [
    "train_data_set.X = torch.from_numpy(train_data_set.X).float()\n",
    "train_data_set.y = torch.from_numpy(train_data_set.y).float().reshape(-1,1)"
   ]
  },
  {
   "cell_type": "code",
   "execution_count": 6,
   "metadata": {},
   "outputs": [],
   "source": [
    "x_val = torch.from_numpy(x_val).float()\n",
    "y_val = torch.from_numpy(y_val).float().reshape(-1,1)"
   ]
  },
  {
   "cell_type": "code",
   "execution_count": 7,
   "metadata": {},
   "outputs": [],
   "source": [
    "train_data_set.X = train_data_set.X.to(device)\n",
    "train_data_set.y = train_data_set.y.to(device)\n",
    "x_val = x_val.to(device)\n",
    "y_val = y_val.to(device)"
   ]
  },
  {
   "cell_type": "code",
   "execution_count": 8,
   "metadata": {},
   "outputs": [
    {
     "data": {
      "text/plain": [
       "torch.Size([10941995, 1])"
      ]
     },
     "execution_count": 8,
     "metadata": {},
     "output_type": "execute_result"
    }
   ],
   "source": [
    "train_data_set.y.shape"
   ]
  },
  {
   "cell_type": "markdown",
   "metadata": {},
   "source": [
    "### Data transformation"
   ]
  },
  {
   "cell_type": "code",
   "execution_count": 9,
   "metadata": {},
   "outputs": [],
   "source": [
    "use_log_space = True"
   ]
  },
  {
   "cell_type": "code",
   "execution_count": 10,
   "metadata": {},
   "outputs": [],
   "source": [
    "if use_log_space :\n",
    "    with torch.no_grad():\n",
    "        train_data_set.y = torch.log(1 + train_data_set.y)\n",
    "        y_val = torch.log(1 + y_val)"
   ]
  },
  {
   "cell_type": "markdown",
   "metadata": {},
   "source": [
    "### Load NN Model"
   ]
  },
  {
   "cell_type": "code",
   "execution_count": 11,
   "metadata": {},
   "outputs": [
    {
     "name": "stdout",
     "output_type": "stream",
     "text": [
      "UNSPECIFIED_NONLINEAR\n"
     ]
    }
   ],
   "source": [
    "LOAD_CHECKPOINT = False\n",
    "LOAD_PATH = '../models/ext_model_nlup_NNplus_100_02_06_11_35.pt'\n",
    "LOG_NAME = LOAD_PATH[17:-5]\n",
    "if not LOAD_CHECKPOINT :\n",
    "    LOG_NAME = 'UNSPECIFIED_NONLINEAR'\n",
    "print(LOG_NAME)"
   ]
  },
  {
   "cell_type": "markdown",
   "metadata": {},
   "source": [
    "### Model Selection"
   ]
  },
  {
   "cell_type": "code",
   "execution_count": 12,
   "metadata": {},
   "outputs": [
    {
     "data": {
      "text/plain": [
       "HpbApproximatorNonLinGplus(\n",
       "  (first_lin): Linear(in_features=4, out_features=64, bias=True)\n",
       "  (second_lin): Linear(in_features=64, out_features=64, bias=True)\n",
       "  (third_lin): Linear(in_features=64, out_features=64, bias=True)\n",
       "  (fourth_lin): Linear(in_features=64, out_features=1, bias=True)\n",
       ")"
      ]
     },
     "execution_count": 12,
     "metadata": {},
     "output_type": "execute_result"
    }
   ],
   "source": [
    "model = HpbApproximatorNonLinGplus()\n",
    "model.to(device)"
   ]
  },
  {
   "cell_type": "markdown",
   "metadata": {},
   "source": [
    "## Training "
   ]
  },
  {
   "cell_type": "code",
   "execution_count": 13,
   "metadata": {},
   "outputs": [],
   "source": [
    "batch_size = 512\n",
    "epochs = 1"
   ]
  },
  {
   "cell_type": "code",
   "execution_count": 14,
   "metadata": {},
   "outputs": [],
   "source": [
    "epoch_list = []\n",
    "train_data_set_loader = DataLoader(train_data_set, batch_size=batch_size, sampler=RandomSampler(train_data_set))\n",
    "# loss_fn = nn.MSELoss()\n",
    "loss_fn = nn.HuberLoss(delta=2)"
   ]
  },
  {
   "cell_type": "code",
   "execution_count": 15,
   "metadata": {},
   "outputs": [],
   "source": [
    "optimizer = torch.optim.Adam(model.parameters())"
   ]
  },
  {
   "cell_type": "code",
   "execution_count": 16,
   "metadata": {},
   "outputs": [
    {
     "name": "stdout",
     "output_type": "stream",
     "text": [
      "Fresh start\n"
     ]
    }
   ],
   "source": [
    "if LOAD_CHECKPOINT :\n",
    "    #model = torch.load(PATH)\n",
    "    checkpoint = torch.load(LOAD_PATH)\n",
    "    model.load_state_dict(checkpoint['model_state_dict'])\n",
    "    optimizer.load_state_dict(checkpoint['optimizer_state_dict'])\n",
    "    epoch_list += checkpoint['epoch']\n",
    "    loss_values_combined = checkpoint['loss']\n",
    "    val_loss_values_combined = checkpoint['valloss']\n",
    "    print(\"Loaded checkpoint\")\n",
    "else : # Start fresh\n",
    "    print(\"Fresh start\")\n",
    "    loss_values_combined = []\n",
    "    val_loss_values_combined = []"
   ]
  },
  {
   "cell_type": "markdown",
   "metadata": {},
   "source": [
    "Start training"
   ]
  },
  {
   "cell_type": "code",
   "execution_count": 17,
   "metadata": {},
   "outputs": [
    {
     "data": {
      "application/vnd.jupyter.widget-view+json": {
       "model_id": "0a4b110ae7b64fb7a05c47afbcb79939",
       "version_major": 2,
       "version_minor": 0
      },
      "text/plain": [
       "  0%|          | 0/1 [00:00<?, ?it/s]"
      ]
     },
     "metadata": {},
     "output_type": "display_data"
    },
    {
     "data": {
      "application/vnd.jupyter.widget-view+json": {
       "model_id": "f3034b19dbac4e93a8ac42cfd1523261",
       "version_major": 2,
       "version_minor": 0
      },
      "text/plain": [
       "  0%|          | 0/21371 [00:00<?, ?it/s]"
      ]
     },
     "metadata": {},
     "output_type": "display_data"
    },
    {
     "name": "stdout",
     "output_type": "stream",
     "text": [
      "training loss: 0.045791 epoch: [    0/1]\n",
      "validation loss: 0.002265\n"
     ]
    }
   ],
   "source": [
    "loss_values = []\n",
    "val_loss_values = []\n",
    "epoch_list.append(epochs)\n",
    "# Some code snippets taken from pytorch tutorial : \n",
    "# https://pytorch.org/tutorials/beginner/basics/optimization_tutorial.html\n",
    "\n",
    "val_loss = 0 \n",
    "#if len(val_loss_values_combined) > 0 :\n",
    "#    val_loss = val_loss_values_combined[-1]\n",
    "\n",
    "for t in tqdm(range(epochs)):\n",
    "    #print(f\"Epoch {t+1}\\n-------------------------------\")\n",
    "    \n",
    "    running_loss = 0\n",
    "    # Training loop\n",
    "    size = len(train_data_set_loader.dataset)\n",
    "    for batch, (X, y) in tqdm(enumerate(train_data_set_loader), total=size//batch_size):\n",
    "        pred = model(X)\n",
    "#       with torch.no_grad() :\n",
    "#             ymod = torch.log(y+1)\n",
    "        loss = loss_fn(pred, y)\n",
    "\n",
    "        # Backpropagation\n",
    "        optimizer.zero_grad()\n",
    "        loss.backward()\n",
    "        optimizer.step()\n",
    "        \n",
    "        running_loss += loss.item() \n",
    "\n",
    "        if batch % 50 == 0 and False:\n",
    "            loss, current = loss.item(), batch * len(X)\n",
    "            print(f\"loss: {loss:>7f}  [{current:>5d}/{size:>5d}]\")\n",
    "        \n",
    "    loss_values.append(running_loss/len(train_data_set_loader))\n",
    "    \n",
    "    if t%10 == 0 :\n",
    "        print(f\"training loss: {loss_values[t]:>7f} epoch: [{t:>5d}/{epochs}]\")        \n",
    "        \n",
    "   \n",
    "    # Test set validaton \n",
    "    with torch.no_grad() :\n",
    "        validation_pred = model(x_val.reshape(-1,x_val.shape[1]).float())\n",
    "        #y_val_mod = torch.log(y_val+1)\n",
    "        val_loss = loss_fn(validation_pred, y_val)\n",
    "        if t%10 == 0 :\n",
    "            print(f'validation loss: {val_loss:>7f}')\n",
    "    \n",
    "    val_loss_values.append(val_loss)\n",
    "    \n",
    "loss_values_combined += loss_values\n",
    "val_loss_values_combined += val_loss_values"
   ]
  },
  {
   "cell_type": "code",
   "execution_count": 18,
   "metadata": {},
   "outputs": [
    {
     "data": {
      "text/plain": [
       "0.0457912093896606"
      ]
     },
     "execution_count": 18,
     "metadata": {},
     "output_type": "execute_result"
    }
   ],
   "source": [
    "loss_values_combined[-1]"
   ]
  },
  {
   "cell_type": "code",
   "execution_count": 19,
   "metadata": {},
   "outputs": [
    {
     "data": {
      "text/plain": [
       "tensor(0.0023, device='cuda:0')"
      ]
     },
     "execution_count": 19,
     "metadata": {},
     "output_type": "execute_result"
    }
   ],
   "source": [
    "val_loss_values_combined[-1]"
   ]
  },
  {
   "cell_type": "code",
   "execution_count": 20,
   "metadata": {},
   "outputs": [],
   "source": [
    "# Computing moving average validation loss (less noise)\n",
    "vloss = torch.FloatTensor(val_loss_values_combined)\n",
    "moving_avg = []\n",
    "window = 15\n",
    "for k in range(len(vloss)-1):\n",
    "    moving_avg.append((torch.mean(vloss[(k-window):(k)])))"
   ]
  },
  {
   "cell_type": "code",
   "execution_count": 21,
   "metadata": {},
   "outputs": [],
   "source": [
    "#loss_values_combined = [value.cpu() for value in loss_values_combined]\n",
    "val_loss_values_combined = [value.cpu() for value in val_loss_values_combined]\n",
    "moving_avg = [value.cpu() for value in moving_avg]"
   ]
  },
  {
   "cell_type": "raw",
   "metadata": {},
   "source": [
    "# Plot validation loss along trajectory\n",
    "plt.rcParams['figure.figsize'] = [20, 10]\n",
    "plt.plot(loss_values_combined[:-1], label='Training')\n",
    "plt.plot(val_loss_values_combined[:-1], label='Validation' )\n",
    "plt.plot(moving_avg[:-1], '--',label=f'Average Validation Loss over {window} Epochs',color='red')\n",
    "plt.yscale('log')\n",
    "plt.legend()\n",
    "plt.xlabel('Epochs')\n",
    "plt.ylabel('MSE')\n",
    "#plt.grid()\n",
    "#if save_figure :\n",
    "#plt.savefig(f'plots/pdf/non_linear_learning_{LOG_NAME}_loss_curve_{epochs}_500k_pts.pdf')"
   ]
  },
  {
   "cell_type": "code",
   "execution_count": 23,
   "metadata": {},
   "outputs": [
    {
     "data": {
      "text/plain": [
       "HpbApproximatorNonLinGplus(\n",
       "  (first_lin): Linear(in_features=4, out_features=64, bias=True)\n",
       "  (second_lin): Linear(in_features=64, out_features=64, bias=True)\n",
       "  (third_lin): Linear(in_features=64, out_features=64, bias=True)\n",
       "  (fourth_lin): Linear(in_features=64, out_features=1, bias=True)\n",
       ")"
      ]
     },
     "execution_count": 23,
     "metadata": {},
     "output_type": "execute_result"
    }
   ],
   "source": [
    "model.to('cpu')"
   ]
  },
  {
   "cell_type": "markdown",
   "metadata": {},
   "source": [
    "### Extract error from trained model"
   ]
  },
  {
   "cell_type": "code",
   "execution_count": null,
   "metadata": {},
   "outputs": [],
   "source": [
    "non_lin_cont = NonLinearContinuousDynamics(None, 4, 2) #placeholder\n",
    "# Input constraints\n",
    "constraint_dict = pickle.load(open(\"../params/non_linear_constraints_params.p\", \"rb\"))\n",
    "X = constraint_dict[\"X\"]\n",
    "U = constraint_dict[\"U\"]                   \n",
    "params_dict = pickle.load(open( \"../params/non_linear_termset_params.p\", \"rb\" ))\n",
    "delta_i = lambda i : i*0.004 \n",
    "print(params_dict['gamma_x'])\n",
    "pcbf = NONLINEAR_PCBF_OPT(non_lin_cont, X, U, delta_i, params_dict, N=50, verbose=False)"
   ]
  },
  {
   "cell_type": "raw",
   "metadata": {},
   "source": [
    "from tqdm.notebook import tqdm\n",
    "\n",
    "n_points = 5\n",
    "scaling_factor = 1.2\n",
    "\n",
    "bounds_x0 = scaling_factor * X.b[0]\n",
    "bounds_x1 = scaling_factor * X.b[2]\n",
    "bounds_x2 = scaling_factor * X.b[4]\n",
    "bounds_x3_lower = scaling_factor * X.b[6]\n",
    "bounds_x3_upper = scaling_factor * X.b[7]\n",
    "\n",
    "# Define coordinates of grid\n",
    "x0 = np.linspace(-bounds_x0, bounds_x0, n_points)\n",
    "x1 = np.linspace(-bounds_x1, bounds_x1, n_points)\n",
    "x2 = np.linspace(-bounds_x2, bounds_x2, n_points)\n",
    "x3 = np.linspace(-bounds_x3_lower, bounds_x3_upper, n_points)\n",
    "\n",
    "x0, x1, x2, x3 = np.meshgrid(x0, x1, x2, x3)\n",
    "\n",
    "hpb_learned = torch.zeros((len(x0), len(x1), len(x2), len(x3)))\n",
    "hpb_optim = np.zeros((len(x0), len(x1), len(x2), len(x3)))\n",
    "#x_safe, u_safe = sim.simulate_discrete(x0, lin_sys, controller_object=algo, Nsteps=N_steps)\n",
    "\n",
    "for j in tqdm(range(len(x0))):\n",
    "    for k in range(len(x1)):\n",
    "        for l in range(len(x2)) :\n",
    "            for m in range(len(x3)) :\n",
    "                with torch.no_grad() :\n",
    "                    hpb_learned[j,k,l,m] = model(torch.tensor([x0[j,k,l,m], x1[j,k,l,m], x2[j,k,l,m], x3[j,k,l,m]]).reshape(-1,4).float())\n",
    "                try :\n",
    "                    _ , _, hpb_optim[j,k,l,m], _,_ = pcbf.solve(np.array([x0[j,k,l,m], x1[j,k,l,m], x2[j,k,l,m], x3[j,k,l,m]]))\n",
    "                except Exception as e:\n",
    "                    print(e)\n",
    "                    hpb_optim[j,k] = np.max(hpb_optim)\n",
    "                    #print(x1[j,k], x2[j,k])\n",
    "                    pass"
   ]
  },
  {
   "cell_type": "code",
   "execution_count": null,
   "metadata": {},
   "outputs": [],
   "source": [
    "# Evaluate learned model on 813k data set\n",
    "test_data = torch.load('../data/val_data_813k_nonlinear.pt')\n",
    "hpb_learned = torch.from_numpy(np.zeros_like(test_data.y))\n",
    "for idx, point in tqdm(enumerate(test_data)) :\n",
    "    x = point[0]\n",
    "    y_true = point[1]\n",
    "    \n",
    "    with torch.no_grad() :\n",
    "        hpb_temp = model(torch.tensor(x).reshape(-1,4).float())\n",
    "        if use_log_space :\n",
    "            hpb_learned[idx] = torch.exp(hpb_temp) - 1\n",
    "        else :\n",
    "            hpb_learned[idx] = hpb_temp\n",
    "hpb_optim = torch.from_numpy(test_data.y)\n",
    "hpb_optim.max()"
   ]
  },
  {
   "cell_type": "code",
   "execution_count": null,
   "metadata": {},
   "outputs": [],
   "source": [
    "#np.save(f\"data/true_nonlinear_temp_hpb_{n_points}_gammax_{params_dict['gamma_x']: .4f}_scale_{scaling_factor}\", hpb_optim) \n",
    "#hpb_optim = np.load('data/.npy')"
   ]
  },
  {
   "cell_type": "code",
   "execution_count": null,
   "metadata": {},
   "outputs": [],
   "source": [
    "# Compute Error\n",
    "h_abs_err = np.abs(hpb_learned - hpb_optim)\n",
    "sqr_err = np.square(hpb_learned - hpb_optim)\n",
    "rms_err = np.sqrt(sqr_err.mean())\n",
    "norm_rms_err = rms_err / (hpb_learned.max()-hpb_learned.min())\n",
    "print('min hpb learned ', hpb_learned.min().numpy())\n",
    "print('max_error',h_abs_err.max().numpy())\n",
    "print('min_error',h_abs_err.min().numpy())\n",
    "print('mse ', sqr_err.mean().numpy())\n",
    "print('average_error', h_abs_err.mean().numpy())\n",
    "print('median_error', h_abs_err.median().numpy())\n",
    "print('variance error', h_abs_err.var().numpy())\n",
    "print('std ', h_abs_err.std().numpy())\n",
    "print('RMS error', rms_err.numpy())\n",
    "print('Normalized RMS error', norm_rms_err.numpy())\n",
    "print('---')\n",
    "print(f'{h_abs_err.max().numpy():.3f}, {h_abs_err.mean().numpy():.3f}/{h_abs_err.median().numpy():.3f}, {h_abs_err.var().numpy():.3f}/{h_abs_err.std().numpy():.3f}, {rms_err.numpy():.3f}/{norm_rms_err.numpy():.3f} ')"
   ]
  },
  {
   "cell_type": "code",
   "execution_count": null,
   "metadata": {},
   "outputs": [],
   "source": [
    "from tqdm.notebook import tqdm\n",
    "#%matplotlib widget\n",
    "n_points = 100\n",
    "x1 = np.linspace(-2.3,2.3,n_points)\n",
    "x2 = np.linspace(-2,2,n_points)\n",
    "x1,x2 = np.meshgrid(x1,x2)\n",
    "#pcbf =  NONLINEAR_PCBF_OPT(non_lin_disc, X, U, delta_i, param_dict)\n",
    "hpb = np.zeros((len(x1), len(x2)))\n",
    "h_ind = np.zeros((len(x1), len(x2)))\n",
    "#x_safe, u_safe = sim.simulate_discrete(x0, lin_sys, controller_object=algo, Nsteps=N_steps)\n",
    "\n",
    "numb_infeasible = 0\n",
    "failure_pts = []\n",
    "\n",
    "for j in tqdm(range(len(x1))):\n",
    "    for k in tqdm(range(len(x2)), leave = False):\n",
    "        #_, _, hpb[j,k], _ ,  _ = pcbf.solve(np.array([x1[j,k],x2[j,k], 0, 0])) \n",
    "        with torch.no_grad():\n",
    "            hpb[j,k] = model(torch.tensor([x1[j,k],x2[j,k], 0, 0]).float())\n",
    "            if use_log_space :\n",
    "                hpb[j,k] = np.exp(hpb[j,k]) - 1\n",
    "        if hpb[j,k] < 0.001 :\n",
    "            h_ind[j,k] = 1\n"
   ]
  },
  {
   "cell_type": "markdown",
   "metadata": {},
   "source": [
    "### Save model + some training data/statistics\n",
    "\n"
   ]
  },
  {
   "cell_type": "raw",
   "metadata": {},
   "source": [
    "from datetime import datetime\n",
    "folder_name = 'models/'\n",
    "name = 'model_nlup_' + 'NGplus_' + datetime.now().strftime(\"%d_%m_%H_%M\")\n",
    "\n",
    "path_model_only =  folder_name + f'{name}.pt'\n",
    "name_ext = 'ext_' + name\n",
    "path_extended =  folder_name + f'{name_ext}.pt'\n",
    "\n",
    "torch.save(model, path_model_only) #Just model\n",
    "\n",
    "torch.save({\n",
    "            'epoch': epoch_list,\n",
    "            'model_state_dict': model.state_dict(),\n",
    "            'optimizer_state_dict': optimizer.state_dict(),\n",
    "            'loss': loss_values_combined,\n",
    "            'valloss' : val_loss_values_combined,\n",
    "            }, path_extended)"
   ]
  },
  {
   "cell_type": "raw",
   "metadata": {},
   "source": [
    "print(path_extended)\n",
    "LOAD_PATH = path_extended\n",
    "LOG_NAME = LOAD_PATH[17:-5]"
   ]
  },
  {
   "cell_type": "code",
   "execution_count": null,
   "metadata": {},
   "outputs": [],
   "source": []
  }
 ],
 "metadata": {
  "kernelspec": {
   "display_name": "Python 3",
   "language": "python",
   "name": "python3"
  },
  "language_info": {
   "codemirror_mode": {
    "name": "ipython",
    "version": 3
   },
   "file_extension": ".py",
   "mimetype": "text/x-python",
   "name": "python",
   "nbconvert_exporter": "python",
   "pygments_lexer": "ipython3",
   "version": "3.6.9"
  }
 },
 "nbformat": 4,
 "nbformat_minor": 5
}
